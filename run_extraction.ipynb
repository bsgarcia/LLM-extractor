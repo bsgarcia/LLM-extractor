{
 "cells": [
  {
   "cell_type": "markdown",
   "id": "64e9bb91",
   "metadata": {},
   "source": [
    "# PDF Extraction Tool - Notebook Version\n",
    "\n",
    "This notebook processes PDF files using the Gemini AI API to answer research questions.\n"
   ]
  },
  {
   "cell_type": "code",
   "execution_count": 1,
   "id": "8ace99db",
   "metadata": {},
   "outputs": [
    {
     "name": "stdout",
     "output_type": "stream",
     "text": [
      "=== PDF Analysis Tool - Notebook Version ===\n",
      "Started at: 2025-09-19 11:10:32\n",
      "✓ Environment initialized - PDF analyzer module will handle logging\n"
     ]
    }
   ],
   "source": [
    "import os\n",
    "import sys\n",
    "import yaml\n",
    "import logging\n",
    "from datetime import datetime\n",
    "\n",
    "# Import the PDF analyzer from modules directory\n",
    "from modules.llm_extractor import LLMExtractor\n",
    "\n",
    "print(\"=== PDF Analysis Tool - Notebook Version ===\")\n",
    "print(f\"Started at: {datetime.now().strftime('%Y-%m-%d %H:%M:%S')}\")\n",
    "print(\"✓ Environment initialized - PDF analyzer module will handle logging\")"
   ]
  },
  {
   "cell_type": "code",
   "execution_count": 2,
   "id": "bd928d22",
   "metadata": {},
   "outputs": [
    {
     "name": "stdout",
     "output_type": "stream",
     "text": [
      "Loading configuration...\n",
      "✓ Configuration loaded successfully\n"
     ]
    }
   ],
   "source": [
    "# Cell 2: Configuration Loading\n",
    "def load_config(config_file=\"config/config.yaml\"):\n",
    "    \"\"\"Load configuration from YAML file\"\"\"\n",
    "    try:\n",
    "        with open(config_file, 'r', encoding='utf-8') as f:\n",
    "            config = yaml.safe_load(f)\n",
    "            return config\n",
    "    except FileNotFoundError:\n",
    "        print(f\"ERROR: Configuration file '{config_file}' not found\")\n",
    "        print(\"Please create config.yaml based on config.template.yaml\")\n",
    "        return None\n",
    "    except yaml.YAMLError as e:\n",
    "        print(f\"ERROR: Invalid YAML in configuration file: {e}\")\n",
    "        return None\n",
    "\n",
    "# Load configuration\n",
    "print(\"Loading configuration...\")\n",
    "config = load_config(\"config/config.yaml\")\n",
    "if not config:\n",
    "    raise Exception(\"Failed to load configuration\")\n",
    "\n",
    "print(\"✓ Configuration loaded successfully\")"
   ]
  },
  {
   "cell_type": "code",
   "execution_count": 3,
   "id": "851fea22",
   "metadata": {},
   "outputs": [
    {
     "name": "stdout",
     "output_type": "stream",
     "text": [
      "=== Setting up Gemini AI ===\n",
      "✓ Model: gemini-2.0-flash-lite\n",
      "✓ Output: output.md\n",
      "✓ Log File: logs/extraction_{timestamp}.log\n",
      "✓ Ready to process PDFs\n"
     ]
    }
   ],
   "source": [
    "# Cell 3: API Key and Model Setup\n",
    "print(\"=== Setting up Gemini AI ===\")\n",
    "\n",
    "# Get configuration values\n",
    "gemini_config = config.get('gemini', {})\n",
    "paths_config = config.get('paths', {})\n",
    "options_config = config.get('options', {})\n",
    "\n",
    "# Get API key from config or environment\n",
    "api_key = gemini_config.get('api_key') or os.getenv('GEMINI_API_KEY')\n",
    "if not api_key:\n",
    "    raise Exception(\"No Gemini API key found. Either set 'api_key' in config.yaml or set GEMINI_API_KEY environment variable\")\n",
    "\n",
    "# Get model name and other settings\n",
    "model_name = gemini_config.get('model', 'gemini-2.0-flash-exp')\n",
    "pdf_dir = paths_config.get('pdf_directory', 'pdfs')\n",
    "questions_file = paths_config.get('questions_file', 'config/questions.yaml')\n",
    "output_file = paths_config.get('output_file', 'output.md')\n",
    "log_file = paths_config.get('log_file', None)  # Get log file from config\n",
    "max_text_length = options_config.get('max_text_length', 30000)\n",
    "\n",
    "print(f\"✓ Model: {model_name}\")\n",
    "print(f\"✓ Output: {output_file}\")\n",
    "print(f\"✓ Log File: {log_file if log_file else 'Console only'}\")\n",
    "print(f\"✓ Ready to process PDFs\")"
   ]
  },
  {
   "cell_type": "code",
   "execution_count": 4,
   "id": "03a373b5",
   "metadata": {},
   "outputs": [
    {
     "name": "stdout",
     "output_type": "stream",
     "text": [
      "=== Discovering PDFs ===\n",
      "✓ Found 2 PDF files to process\n"
     ]
    }
   ],
   "source": [
    "# Cell 4: File Validation and PDF Discovery\n",
    "print(\"=== Discovering PDFs ===\")\n",
    "\n",
    "# Check if required files exist\n",
    "if not os.path.exists(pdf_dir):\n",
    "    raise Exception(f\"PDF directory '{pdf_dir}' not found\")\n",
    "    \n",
    "if not os.path.exists(questions_file):\n",
    "    raise Exception(f\"Questions file '{questions_file}' not found\")\n",
    "\n",
    "# Count PDF files\n",
    "pdf_files = [f for f in os.listdir(pdf_dir) if f.lower().endswith('.pdf')]\n",
    "\n",
    "# Limit to first 10 files for processing (as per original script)\n",
    "if len(pdf_files) > 10:\n",
    "    print(f\"📋 Limiting to first 10 files for processing\")\n",
    "    pdf_files = pdf_files[:10]\n",
    "\n",
    "if len(pdf_files) == 0:\n",
    "    raise Exception(\"No PDF files found to process\")\n",
    "\n",
    "print(f\"✓ Found {len(pdf_files)} PDF files to process\")"
   ]
  },
  {
   "cell_type": "code",
   "execution_count": 5,
   "id": "1fb18a6e",
   "metadata": {},
   "outputs": [
    {
     "name": "stderr",
     "output_type": "stream",
     "text": [
      "2025-09-19 11:10:32,901 - INFO - Logging to file: logs/extraction_2025-09-19_11-10-32.log\n",
      "2025-09-19 11:10:32,902 - INFO - Gemini AI configured with model: gemini-2.0-flash-lite\n",
      "2025-09-19 11:10:32,908 - INFO - Loaded 12 questions from config/questions.yaml\n",
      "2025-09-19 11:10:32,909 - INFO - Loaded additional instructions: Please provide VERY concise answers. A couple of sentences max. ALWAYS Quote the text and say where ...\n"
     ]
    },
    {
     "name": "stdout",
     "output_type": "stream",
     "text": [
      "=== Initializing Analyzer ===\n",
      "✓ Analyzer ready with 12 questions\n",
      "✓ Logging configured to file (with timestamped filename)\n"
     ]
    }
   ],
   "source": [
    "# Cell 5: Initialize Analyzer and Load Questions\n",
    "print(\"=== Initializing Analyzer ===\")\n",
    "\n",
    "try:\n",
    "    # Create analyzer with log file from configuration\n",
    "    analyzer = LLMExtractor(api_key, model_name, log_file)\n",
    "    \n",
    "    # Load questions\n",
    "    questions, additional_instructions = analyzer.load_questions(questions_file)\n",
    "    \n",
    "    print(f\"✓ Analyzer ready with {len(questions)} questions\")\n",
    "    if log_file:\n",
    "        print(f\"✓ Logging configured to file (with timestamped filename)\")\n",
    "        \n",
    "except Exception as e:\n",
    "    print(f\"❌ Error initializing analyzer: {e}\")\n",
    "    raise"
   ]
  },
  {
   "cell_type": "code",
   "execution_count": 6,
   "id": "629ee08b",
   "metadata": {},
   "outputs": [
    {
     "name": "stdout",
     "output_type": "stream",
     "text": [
      "=== Preparing Output ===\n",
      "✓ Output file ready: output.md\n"
     ]
    }
   ],
   "source": [
    "# Cell 6: Prepare Output File\n",
    "print(\"=== Preparing Output ===\")\n",
    "\n",
    "# Create or update header\n",
    "with open(output_file, 'w', encoding='utf-8') as f:\n",
    "    f.write(\"# PDF Analysis Results\\n\\n\")\n",
    "    f.write(f\"Generated on: {datetime.now().strftime('%Y-%m-%d %H:%M:%S')}\\n\")\n",
    "    f.write(f\"Model used: {model_name}\\n\")\n",
    "    f.write(f\"Files to process: {len(pdf_files)}\\n\\n\")\n",
    "    f.write(\"---\\n\\n\")\n",
    "\n",
    "print(f\"✓ Output file ready: {output_file}\")"
   ]
  },
  {
   "cell_type": "markdown",
   "id": "cef92ce0",
   "metadata": {},
   "source": [
    "## Process files! "
   ]
  },
  {
   "cell_type": "code",
   "execution_count": null,
   "id": "11a42b2f",
   "metadata": {},
   "outputs": [
    {
     "name": "stderr",
     "output_type": "stream",
     "text": [
      "2025-09-19 11:10:32,965 - INFO - Loaded 12 questions from config/questions.yaml\n",
      "2025-09-19 11:10:32,967 - INFO - Loaded additional instructions: Please provide VERY concise answers. A couple of sentences max. ALWAYS Quote the text and say where ...\n",
      "2025-09-19 11:10:32,970 - INFO - Processing PDF: pdfs\\Aydmune et al. - 2019 - Inhibitory Processes Training for School-age Child.pdf\n"
     ]
    },
    {
     "name": "stdout",
     "output_type": "stream",
     "text": [
      "=== Starting PDF Analysis ===\n",
      "📊 Total work: 2 PDFs × 12 questions = 24 tasks\n",
      "\n",
      "🔍 Processing (1/2): Aydmune et al. - 2019 - Inhibitory Processes Training for School-age Child.pdf\n"
     ]
    },
    {
     "name": "stderr",
     "output_type": "stream",
     "text": [
      "2025-09-19 11:10:32,972 - INFO - Uploading PDF file: Aydmune et al. - 2019 - Inhibitory Processes Training for School-age Child.pdf\n",
      "2025-09-19 11:10:35,840 - INFO - PDF upload completed in 2.87s\n",
      "2025-09-19 11:10:35,842 - INFO - Successfully uploaded 'Aydmune et al. - 2019 - Inhibitory Processes Training for School-age Child.pdf' as: files/fo2ycft5ob9c\n",
      "2025-09-19 11:10:35,843 - INFO - Processing question 1/12 for Aydmune et al. - 2019 - Inhibitory Processes Training for School-age Child.pdf\n",
      "2025-09-19 11:10:43,052 - INFO - Gemini query completed in 7.21s\n",
      "2025-09-19 11:10:43,053 - INFO - Processing question 2/12 for Aydmune et al. - 2019 - Inhibitory Processes Training for School-age Child.pdf\n",
      "2025-09-19 11:10:50,136 - INFO - Gemini query completed in 7.08s\n",
      "2025-09-19 11:10:50,137 - INFO - Processing question 3/12 for Aydmune et al. - 2019 - Inhibitory Processes Training for School-age Child.pdf\n",
      "2025-09-19 11:10:57,806 - INFO - Gemini query completed in 7.67s\n",
      "2025-09-19 11:10:57,808 - INFO - Processing question 4/12 for Aydmune et al. - 2019 - Inhibitory Processes Training for School-age Child.pdf\n",
      "2025-09-19 11:11:03,008 - ERROR - Failed to query Gemini after 5.20s: 504 Deadline expired before operation could complete.\n",
      "2025-09-19 11:11:03,009 - INFO - Processing question 5/12 for Aydmune et al. - 2019 - Inhibitory Processes Training for School-age Child.pdf\n",
      "2025-09-19 11:11:10,943 - INFO - Gemini query completed in 7.93s\n",
      "2025-09-19 11:11:10,947 - INFO - Processing question 6/12 for Aydmune et al. - 2019 - Inhibitory Processes Training for School-age Child.pdf\n",
      "2025-09-19 11:11:18,066 - INFO - Gemini query completed in 7.12s\n",
      "2025-09-19 11:11:18,067 - INFO - Processing question 7/12 for Aydmune et al. - 2019 - Inhibitory Processes Training for School-age Child.pdf\n",
      "2025-09-19 11:11:25,528 - INFO - Gemini query completed in 7.46s\n",
      "2025-09-19 11:11:25,531 - INFO - Processing question 8/12 for Aydmune et al. - 2019 - Inhibitory Processes Training for School-age Child.pdf\n",
      "2025-09-19 11:11:32,283 - INFO - Gemini query completed in 6.75s\n",
      "2025-09-19 11:11:32,285 - INFO - Processing question 9/12 for Aydmune et al. - 2019 - Inhibitory Processes Training for School-age Child.pdf\n",
      "2025-09-19 11:11:40,277 - INFO - Gemini query completed in 7.99s\n",
      "2025-09-19 11:11:40,278 - INFO - Processing question 10/12 for Aydmune et al. - 2019 - Inhibitory Processes Training for School-age Child.pdf\n",
      "2025-09-19 11:11:48,086 - INFO - Gemini query completed in 7.81s\n",
      "2025-09-19 11:11:48,088 - INFO - Processing question 11/12 for Aydmune et al. - 2019 - Inhibitory Processes Training for School-age Child.pdf\n",
      "2025-09-19 11:12:06,443 - INFO - Gemini query completed in 18.35s\n",
      "2025-09-19 11:12:06,445 - INFO - Processing question 12/12 for Aydmune et al. - 2019 - Inhibitory Processes Training for School-age Child.pdf\n",
      "2025-09-19 11:12:15,789 - INFO - Gemini query completed in 9.34s\n",
      "2025-09-19 11:12:15,791 - INFO - Successfully processed 12 questions for Aydmune et al. - 2019 - Inhibitory Processes Training for School-age Child.pdf\n",
      "2025-09-19 11:12:15,792 - INFO - Total processing time: 1m 42.8s\n",
      "2025-09-19 11:12:15,794 - INFO - Added new section for Aydmune et al. - 2019 - Inhibitory Processes Training for School-age Child\n",
      "2025-09-19 11:12:15,797 - INFO - Processing PDF: pdfs\\Barbosa-Pereira et al. - 2022 - Is working memory training efficient Effects on I.pdf\n",
      "2025-09-19 11:12:15,799 - INFO - Uploading PDF file: Barbosa-Pereira et al. - 2022 - Is working memory training efficient Effects on I.pdf\n"
     ]
    },
    {
     "name": "stdout",
     "output_type": "stream",
     "text": [
      "{'Comment on how the attribution to groups was implemented  (randomization type). Also was it random, pseudo-random (when matched for age/gender baseline, etc...) or cluster-random (e.g. by classroom)?': 'short answer: Participants were randomly assigned to the different conditions.\\nlong answer: Participants were randomly assigned to the following conditions: (a) response inhibition-training group (TG; n = 30); (b) perceptual inhibition-TG (n = 25); (c) cognitive inhibition-TG (n = 24); (d) Control active group (GC; n = 31).\\nquote: \"Participants were randomly assigned to the following conditions: (a) response inhibition-training group (TG; n = 30); (b) perceptual inhibition-TG (n = 25); (c) cognitive inhibition-TG (n = 24); (d) Control active group (GC; n = 31)\" (page 6/Participants, Ethical considerations and procedure)', 'Find the sample size WITHOUT the drop outs (i.e. the final N used in the analysis). Same thing but depending on groups. What was the number of participants (included in analysis) in the training groups? And in control groups (if any)?': 'short answer:\\nResponse Inhibition-TG: 30, Perceptual Inhibition-TG: 25, Cognitive Inhibition-TG: 24, and Control Group: 31.\\n\\nlong answer:\\nThe final sample sizes used in the analysis for each group were provided in Table 1 on page 6. These numbers do not include the drop-outs. The training groups were: Response Inhibition-TG (n = 30), Perceptual Inhibition-TG (n = 25), and Cognitive Inhibition-TG (n = 24). The Control Group consisted of 31 participants.\\n\\nquote:\\n\"Table 1. Sample description according to group, age, and gender. Response inhibition EG n = 30, Perceptual inhibition EG n = 25, Cognitive inhibition EG n = 24, CG n = 31\" (page 6, Table 1)', 'Find the inclusion criteria.': 'short answer: The inclusion criteria were: \"non-repeating students; absence of developmental, psychological and/or psychiatric disorders; and with normal or corrected vision and hearing\" (page 6, Participants).\\nlong answer: The study included an intentional sample of children from two elementary schools in Mar del Plata. Participants were included based on specific criteria. They should not be repeating students and needed to be without any developmental, psychological, or psychiatric disorders. Additionally, they must have had normal or corrected vision and hearing.\\nquote: \"For analytical purposes, participants were included according to the following criteria: non-repeating students; absence of developmental, psychological and/or psychiatric disorders; and with normal or corrected vision and hearing.\" (page 6, Participants)', 'Find the exclusion criteria.': 'Error querying Gemini: 504 Deadline expired before operation could complete.', 'What was the training duration? Compute step by step. calculate as follow: e.g. 10-15 minutes/day, 5 days/week for 2 weeks -> =((10*5*2) + (15*5*2)) /2; take the mean between the minimum and maximum': 'short answer: The training duration was approximately 12 sessions, twice a week, for 2 months, with individual sessions of 10–15 minutes each.\\n\\nlong answer: The experimental conditions (training and control) involved children performing individual sessions of 10–15 min each, once or twice a week for 2 months. The participants in the training groups completed 12 sessions on average.\\n\\nquote: \"During the experimental conditions (training and control), children performed on individual sessions of 10–15 min each one, once or twice a week for 2 months. On average, participants in the TG completed 12 sessions (M = 11.7, SD = 1.9), while those in the CG completed 6 sessions (M = 6.32, SD = 3.04)\" (page 6/Participants)', 'What was the CONTROL duration? Compute step by step. calculate as follow: e.g. 10-15 minutes/day, 5 days/week for 2 weeks -> =((10*5*2) + (15*5*2)) /2; take the mean between the minimum and maximum': 'Here\\'s an analysis of the control group duration, based on the provided text:\\n\\nshort answer: The control group completed 6 sessions. Each session was 10-15 min.\\nlong answer: The control group (CG) completed 6 sessions, while the training group (TG) completed 12 sessions. The experimental conditions for both groups involved individual sessions lasting 10-15 minutes.\\nquote: \"On average, participants in the TG completed 12 sessions (M = 11.7, SD = 1.9), while those in the CG completed 6 sessions (M = 6.32, SD = 3.04).\" (page 6, section \"Participants\") \"During the experimental conditions (training and control), children performed on individual sessions of 10–15 min each one\" (page 6, section \"Participants\")', 'describe the activity of the control group. BAU = business as usual = what participants would normally do during that time': 'short answer: The control group performed the first level of the training tasks, which involved basic levels of inhibitory processes.\\n\\nlong answer: The control group (CG) participated in the first level of the training tasks, specifically level 1 of the perceptual inhibition training task, level 1 of the cognitive inhibition training task, and level 1 of the response inhibition training task. These levels involved congruent trials (1500ms time to respond), and low levels of proactive interference.\\n\\nquote: \"The participants in CG performed the first level of the training tasks (see Training activities) – i.e., level 1 of perceptual inhibition training task (congruent trials; presentation time of stimuli: 1500 ms); level 1 of cognitive inhibition training task (with 30% of trails with irrelevant probes); and level 1 of response inhibition training task (sequences of one and two go trials previous to the no-go trial). In these levels, inhibitory processes are not significantly involved.\" (page 15/Results/Control activities)', 'Were the assessors blind?': 'short answer: Yes, the research assistants were blind to the children\\'s condition.\\n\\nlong answer: The research assistants were blind to the children\\'s condition, as stated in the note at the end of the paper.\\n\\nquote: \"The rest of the research assistants were blind.\" (page 536/Note)', 'Are there primary and secondary outcomes? If yes, what are they? Near transfer? Far transfer?': 'Here\\'s a breakdown of the outcomes based on the paper:\\n\\nshort answer: Yes, primary and secondary outcomes exist, addressing near and far transfer.\\n\\nlong answer: The study had the following goals: (a) design, implement and evaluate the training of perceptual, cognitive, and response inhibition processes; (b) analyze near transfer effects on each type of inhibitory training; (c) analyze far transfer effects on WM, CF, and fluid intelligence tasks, and (d) analyze short-term and long-term transfer effects (page 5/ \"Therefore, the goals of this work are\"). Therefore, the primary outcome would be the efficacy of the interventions on inhibitory processes (near transfer). Secondary outcomes would be related to effects on WM, CF, and fluid intelligence (far transfer).\\n\\nquote: \"Therefore, the goals of this work are: (a) to design, implement and evaluate the training of perceptual, cognitive and response inhibition processes... (b) to analyze near transfer effects of each type of inhibitory training. (c) To analyze far transfer effects on WM, CF and fluid intelligence tasks. And (d), to analyze short- (i.e., immediate) and long-term (6 months after training end) transfer effects.\" (page 5/ \"Therefore, the goals of this work are:\")', 'What is the socioeconomic status of the participants? Is there interindividual variability?': 'short answer: The participants are predominantly from middle socioeconomic (SES) homes. There is interindividual variability.\\nlong answer: The participants were predominantly from middle socioeconomic (SES) homes according to the Hollingshead (2011) index. The provided data shows there is variability in the sample regarding SES across the different training groups (see Table 1).\\nquote: \"They were predominantly from middle socioeconomic (SES) homes according to Hollingshead (2011) index used in different studies with similar sample (e.g., Andrés, Castañeiras, & Richaud, 2014; Andrés, Espínola, & Cáceres, 2017; Andrés, Richaud de Minzi, Castañeiras, Canet-Juric, & RodríguezCarvajal, 2016; Demagistri, 2017; Pascual, Galperin, & Bornstein, 1993). Table 2 shows descriptive statistics for age and SES. \" - Page 6, Participants.', 'Do participants have any diagnosis (e.g. ADHD, dyslexia, anxiety, depression, etc...)? If ADHD, specify the subtype (inattentive, hyperactive, combined). Also specify if medicated or not.': 'short answer: The participants were excluded if they presented developmental, psychological and/or psychiatric disorders. Thus, no information about the presence of a specific diagnosis (e.g., ADHD, dyslexia, etc) is available in the paper.\\n\\nlong answer: The paper indicates that the selection criteria for participants included the exclusion of those with \"absence of developmental, psychological and/or psychiatric disorders\" (page 6, Ethical considerations and procedure). The study does not provide information about participants with any specific diagnosis (e.g., ADHD, dyslexia, anxiety, depression, etc.). Neither is known if participants were medicated or not.\\n\\nquote: \"For analytical purposes, participants were included according to the following criteria: ... absence of developmental, psychological and/or psychiatric disorders\" (page 6, Ethical considerations and procedure).', \"For each task (focus on these dimensions: inhibition, working memory, cognitive flexibility, attention. For other kind of tasks (e.g. intelligence with WAIS), make a 'others' section), specify the task name (e.g. Stroop, Flanker, N-back) and mean and sd of the main performance measure at pre AND post training. Do this for the training groups but ALSO for the control group.\": 'Here\\'s a summary of the task performance, focusing on the key dimensions, as requested:\\n\\n**Inhibition**\\n\\n*   **Response Inhibition Task (Stop-Signal Reaction Time)**\\n\\n    *   **Response Inhibition Training Group (TG):** Pretest: Mean (M) = 522.659 ms, Standard Deviation (SD) = 102.971 ms; Posttest1: M = 478.628 ms, SD = 94.526 ms (Table 2).\\n    *   **Control Group (CG):** Pretest: M = 476.222 ms, SD = 160.980 ms; Posttest1: M = 484.323 ms, SD = 139.452 ms (Table 2).\\n    *   **Note:** Further data is available for Posttest2 but not requested, so omitted.\\n\\n*   **Perceptual Inhibition Task (Test de Percepción de Diferencias-revisado, CARAS-R)**\\n\\n    *   **Perceptual Inhibition Training Group (TG):** Pretest: Hits Net (HN) ds Mean (M) = 529.736, SD = 114.641; Posttest1: M = 510.242, SD = 78.016 (Table 2)\\n    *   **Control Group (CG):** Pretest: HN ds M = 476.222, SD = 160.980; Posttest1: 484.323, SD = 139.452 (Table 2)\\n    *   **Note:** The performance measures used are \"Hits net - (HN) number of hits minus the number of errors, including direct scores (HN ds) and percentiles (HN pc)\".\\n\\n*   **Cognitive Inhibition Task (Proactive Interference Task)**\\n\\n    *   **Cognitive Inhibition Training Group (TG):** The authors describe the task in the paper but *do not* provide the mean and SD performance data.\\n    *   **Control Group (CG):** The authors describe the task in the paper but *do not* provide the mean and SD performance data.\\n    *   **Note:** Performance measures are % correct responses (IP) and number of false-positive (intrusion) errors (IP Intrusions).\\n\\n**Working Memory**\\n\\n*   **Visuospatial Working Memory Task**\\n\\n    *   **All Groups:** The authors *do not* provide the mean and SD performance data for this task.\\n\\n*   **Verbal Working Memory Task (Digit Span Backward)**\\n\\n    *   **Response Inhibition Training Group (TG):** The authors *do not* provide the mean and SD performance data for this task.\\n    *   **Control Group (CG):** The authors *do not* provide the mean and SD performance data for this task.\\n\\n**Cognitive Flexibility**\\n\\n*   **Cognitive Flexibility Task**\\n\\n    *   **All Groups:** The authors *do not* provide the mean and SD performance data for this task.\\n\\n**Attention**\\n\\n*   **Note:** The authors *do not* have an \"Attention\" task specified by that name, the tasks listed above all involve Attention, but this is not measured.\\n\\n**Others**\\n\\n*   **Fluid Intelligence Task**\\n\\n    *   **All Groups:** The authors *do not* provide the mean and SD performance data for this task.'}\n",
      "\n",
      "🔍 Processing (2/2): Barbosa-Pereira et al. - 2022 - Is working memory training efficient Effects on I.pdf\n"
     ]
    },
    {
     "name": "stderr",
     "output_type": "stream",
     "text": [
      "2025-09-19 11:12:17,921 - INFO - PDF upload completed in 2.12s\n",
      "2025-09-19 11:12:17,923 - INFO - Successfully uploaded 'Barbosa-Pereira et al. - 2022 - Is working memory training efficient Effects on I.pdf' as: files/nl0wnevlv8b1\n",
      "2025-09-19 11:12:17,924 - INFO - Processing question 1/12 for Barbosa-Pereira et al. - 2022 - Is working memory training efficient Effects on I.pdf\n",
      "2025-09-19 11:12:23,700 - INFO - Gemini query completed in 5.77s\n",
      "2025-09-19 11:12:23,703 - INFO - Processing question 2/12 for Barbosa-Pereira et al. - 2022 - Is working memory training efficient Effects on I.pdf\n",
      "2025-09-19 11:12:28,927 - INFO - Gemini query completed in 5.22s\n",
      "2025-09-19 11:12:28,929 - INFO - Processing question 3/12 for Barbosa-Pereira et al. - 2022 - Is working memory training efficient Effects on I.pdf\n",
      "2025-09-19 11:12:34,151 - INFO - Gemini query completed in 5.22s\n",
      "2025-09-19 11:12:34,154 - INFO - Processing question 4/12 for Barbosa-Pereira et al. - 2022 - Is working memory training efficient Effects on I.pdf\n",
      "2025-09-19 11:12:40,492 - INFO - Gemini query completed in 6.34s\n",
      "2025-09-19 11:12:40,494 - INFO - Processing question 5/12 for Barbosa-Pereira et al. - 2022 - Is working memory training efficient Effects on I.pdf\n",
      "2025-09-19 11:12:45,202 - INFO - Gemini query completed in 4.71s\n",
      "2025-09-19 11:12:45,203 - INFO - Processing question 6/12 for Barbosa-Pereira et al. - 2022 - Is working memory training efficient Effects on I.pdf\n"
     ]
    },
    {
     "ename": "KeyboardInterrupt",
     "evalue": "",
     "output_type": "error",
     "traceback": [
      "\u001b[1;31m---------------------------------------------------------------------------\u001b[0m",
      "\u001b[1;31mKeyboardInterrupt\u001b[0m                         Traceback (most recent call last)",
      "Cell \u001b[1;32mIn[7], line 22\u001b[0m\n\u001b[0;32m     20\u001b[0m \u001b[38;5;28mprint\u001b[39m(\u001b[38;5;124mf\u001b[39m\u001b[38;5;124m\"\u001b[39m\u001b[38;5;130;01m\\n\u001b[39;00m\u001b[38;5;124m🔍 Processing (\u001b[39m\u001b[38;5;132;01m{\u001b[39;00mi\u001b[38;5;132;01m}\u001b[39;00m\u001b[38;5;124m/\u001b[39m\u001b[38;5;132;01m{\u001b[39;00m\u001b[38;5;28mlen\u001b[39m(pdf_files)\u001b[38;5;132;01m}\u001b[39;00m\u001b[38;5;124m): \u001b[39m\u001b[38;5;132;01m{\u001b[39;00mpdf_file\u001b[38;5;132;01m}\u001b[39;00m\u001b[38;5;124m\"\u001b[39m)\n\u001b[0;32m     21\u001b[0m \u001b[38;5;66;03m# Process PDF and get Q&A results\u001b[39;00m\n\u001b[1;32m---> 22\u001b[0m qa_results \u001b[38;5;241m=\u001b[39m \u001b[43manalyzer\u001b[49m\u001b[38;5;241;43m.\u001b[39;49m\u001b[43mprocess_pdf\u001b[49m\u001b[43m(\u001b[49m\u001b[43mpdf_path\u001b[49m\u001b[43m,\u001b[49m\u001b[43m \u001b[49m\u001b[43mquestions\u001b[49m\u001b[43m,\u001b[49m\u001b[43m \u001b[49m\u001b[43madditional_instructions\u001b[49m\u001b[43m)\u001b[49m\n\u001b[0;32m     23\u001b[0m \u001b[38;5;28mprint\u001b[39m(qa_results)\n\u001b[0;32m     24\u001b[0m \u001b[38;5;28;01mif\u001b[39;00m qa_results:\n\u001b[0;32m     25\u001b[0m     \u001b[38;5;66;03m# Update markdown file\u001b[39;00m\n",
      "File \u001b[1;32mc:\\Users\\basil\\Documents\\CodeProjectsLocal\\dda_review\\modules\\llm_extractor.py:277\u001b[0m, in \u001b[0;36mLLMExtractor.process_pdf\u001b[1;34m(self, pdf_path, questions, additional_instructions)\u001b[0m\n\u001b[0;32m    275\u001b[0m \u001b[38;5;28;01mfor\u001b[39;00m i, question \u001b[38;5;129;01min\u001b[39;00m \u001b[38;5;28menumerate\u001b[39m(questions, \u001b[38;5;241m1\u001b[39m):\n\u001b[0;32m    276\u001b[0m     n \u001b[38;5;241m=\u001b[39m \u001b[38;5;28mlen\u001b[39m(questions)\n\u001b[1;32m--> 277\u001b[0m     answer, question_duration \u001b[38;5;241m=\u001b[39m \u001b[38;5;28;43mself\u001b[39;49m\u001b[38;5;241;43m.\u001b[39;49m\u001b[43mask_question\u001b[49m\u001b[43m(\u001b[49m\n\u001b[0;32m    278\u001b[0m \u001b[43m        \u001b[49m\u001b[43mi\u001b[49m\u001b[43m,\u001b[49m\u001b[43m \u001b[49m\u001b[43mn\u001b[49m\u001b[43m,\u001b[49m\u001b[43m \u001b[49m\u001b[43muploaded_file\u001b[49m\u001b[43m,\u001b[49m\u001b[43m \u001b[49m\u001b[43mpdf_name\u001b[49m\u001b[43m,\u001b[49m\u001b[43m \u001b[49m\u001b[43mquestion\u001b[49m\u001b[43m,\u001b[49m\u001b[43m  \u001b[49m\u001b[43madditional_instructions\u001b[49m\u001b[43m)\u001b[49m\n\u001b[0;32m    279\u001b[0m     total_query_time \u001b[38;5;241m+\u001b[39m\u001b[38;5;241m=\u001b[39m question_duration\n\u001b[0;32m    280\u001b[0m     results[question] \u001b[38;5;241m=\u001b[39m answer\n",
      "File \u001b[1;32mc:\\Users\\basil\\Documents\\CodeProjectsLocal\\dda_review\\modules\\llm_extractor.py:248\u001b[0m, in \u001b[0;36mLLMExtractor.ask_question\u001b[1;34m(self, i, n, uploaded_file, pdf_name, question, additional_instructions)\u001b[0m\n\u001b[0;32m    246\u001b[0m \u001b[38;5;28mself\u001b[39m\u001b[38;5;241m.\u001b[39mlogger\u001b[38;5;241m.\u001b[39minfo(\u001b[38;5;124mf\u001b[39m\u001b[38;5;124m\"\u001b[39m\u001b[38;5;124mProcessing question \u001b[39m\u001b[38;5;132;01m{\u001b[39;00mi\u001b[38;5;132;01m}\u001b[39;00m\u001b[38;5;124m/\u001b[39m\u001b[38;5;132;01m{\u001b[39;00mn\u001b[38;5;132;01m}\u001b[39;00m\u001b[38;5;124m for \u001b[39m\u001b[38;5;132;01m{\u001b[39;00mpdf_name\u001b[38;5;132;01m}\u001b[39;00m\u001b[38;5;124m\"\u001b[39m)\n\u001b[0;32m    247\u001b[0m question_start \u001b[38;5;241m=\u001b[39m time\u001b[38;5;241m.\u001b[39mtime()\n\u001b[1;32m--> 248\u001b[0m answer \u001b[38;5;241m=\u001b[39m \u001b[38;5;28;43mself\u001b[39;49m\u001b[38;5;241;43m.\u001b[39;49m\u001b[43mquery_gemini\u001b[49m\u001b[43m(\u001b[49m\u001b[43muploaded_file\u001b[49m\u001b[43m,\u001b[49m\u001b[43m \u001b[49m\u001b[43mquestion\u001b[49m\u001b[43m,\u001b[49m\u001b[43m \u001b[49m\u001b[43madditional_instructions\u001b[49m\u001b[43m)\u001b[49m\n\u001b[0;32m    249\u001b[0m question_duration \u001b[38;5;241m=\u001b[39m time\u001b[38;5;241m.\u001b[39mtime() \u001b[38;5;241m-\u001b[39m question_start\n\u001b[0;32m    250\u001b[0m \u001b[38;5;28;01mreturn\u001b[39;00m answer, question_duration\n",
      "File \u001b[1;32mc:\\Users\\basil\\Documents\\CodeProjectsLocal\\dda_review\\modules\\llm_extractor.py:213\u001b[0m, in \u001b[0;36mLLMExtractor.query_gemini\u001b[1;34m(self, uploaded_file, question, additional_instructions)\u001b[0m\n\u001b[0;32m    208\u001b[0m             prompt \u001b[38;5;241m=\u001b[39m \u001b[38;5;124mf\u001b[39m\u001b[38;5;124m\"\"\"\u001b[39m\u001b[38;5;124mBased on the research paper document, please answer this question: \u001b[39m\u001b[38;5;132;01m{\u001b[39;00mquestion\u001b[38;5;132;01m}\u001b[39;00m\n\u001b[0;32m    209\u001b[0m \n\u001b[0;32m    210\u001b[0m \u001b[38;5;132;01m{\u001b[39;00mfull_instructions\u001b[38;5;132;01m}\u001b[39;00m\u001b[38;5;124m\"\"\"\u001b[39m\n\u001b[0;32m    212\u001b[0m             \u001b[38;5;66;03m# Use the uploaded file directly with the prompt\u001b[39;00m\n\u001b[1;32m--> 213\u001b[0m             response \u001b[38;5;241m=\u001b[39m \u001b[38;5;28;43mself\u001b[39;49m\u001b[38;5;241;43m.\u001b[39;49m\u001b[43mmodel\u001b[49m\u001b[38;5;241;43m.\u001b[39;49m\u001b[43mgenerate_content\u001b[49m\u001b[43m(\u001b[49m\u001b[43m[\u001b[49m\u001b[43muploaded_file\u001b[49m\u001b[43m,\u001b[49m\u001b[43m \u001b[49m\u001b[43mprompt\u001b[49m\u001b[43m]\u001b[49m\u001b[43m)\u001b[49m\n\u001b[0;32m    215\u001b[0m             end_time \u001b[38;5;241m=\u001b[39m time\u001b[38;5;241m.\u001b[39mtime()\n\u001b[0;32m    216\u001b[0m             duration \u001b[38;5;241m=\u001b[39m end_time \u001b[38;5;241m-\u001b[39m start_time\n",
      "File \u001b[1;32mc:\\Users\\basil\\.pyenv\\pyenv-win\\versions\\3.9.12\\lib\\site-packages\\google\\generativeai\\generative_models.py:331\u001b[0m, in \u001b[0;36mGenerativeModel.generate_content\u001b[1;34m(self, contents, generation_config, safety_settings, stream, tools, tool_config, request_options)\u001b[0m\n\u001b[0;32m    329\u001b[0m         \u001b[38;5;28;01mreturn\u001b[39;00m generation_types\u001b[38;5;241m.\u001b[39mGenerateContentResponse\u001b[38;5;241m.\u001b[39mfrom_iterator(iterator)\n\u001b[0;32m    330\u001b[0m     \u001b[38;5;28;01melse\u001b[39;00m:\n\u001b[1;32m--> 331\u001b[0m         response \u001b[38;5;241m=\u001b[39m \u001b[38;5;28mself\u001b[39m\u001b[38;5;241m.\u001b[39m_client\u001b[38;5;241m.\u001b[39mgenerate_content(\n\u001b[0;32m    332\u001b[0m             request,\n\u001b[0;32m    333\u001b[0m             \u001b[38;5;241m*\u001b[39m\u001b[38;5;241m*\u001b[39mrequest_options,\n\u001b[0;32m    334\u001b[0m         )\n\u001b[0;32m    335\u001b[0m         \u001b[38;5;28;01mreturn\u001b[39;00m generation_types\u001b[38;5;241m.\u001b[39mGenerateContentResponse\u001b[38;5;241m.\u001b[39mfrom_response(response)\n\u001b[0;32m    336\u001b[0m \u001b[38;5;28;01mexcept\u001b[39;00m google\u001b[38;5;241m.\u001b[39mapi_core\u001b[38;5;241m.\u001b[39mexceptions\u001b[38;5;241m.\u001b[39mInvalidArgument \u001b[38;5;28;01mas\u001b[39;00m e:\n",
      "File \u001b[1;32mc:\\Users\\basil\\.pyenv\\pyenv-win\\versions\\3.9.12\\lib\\site-packages\\google\\ai\\generativelanguage_v1beta\\services\\generative_service\\client.py:835\u001b[0m, in \u001b[0;36mGenerativeServiceClient.generate_content\u001b[1;34m(self, request, model, contents, retry, timeout, metadata)\u001b[0m\n\u001b[0;32m    832\u001b[0m \u001b[38;5;28mself\u001b[39m\u001b[38;5;241m.\u001b[39m_validate_universe_domain()\n\u001b[0;32m    834\u001b[0m \u001b[38;5;66;03m# Send the request.\u001b[39;00m\n\u001b[1;32m--> 835\u001b[0m response \u001b[38;5;241m=\u001b[39m \u001b[43mrpc\u001b[49m\u001b[43m(\u001b[49m\n\u001b[0;32m    836\u001b[0m \u001b[43m    \u001b[49m\u001b[43mrequest\u001b[49m\u001b[43m,\u001b[49m\n\u001b[0;32m    837\u001b[0m \u001b[43m    \u001b[49m\u001b[43mretry\u001b[49m\u001b[38;5;241;43m=\u001b[39;49m\u001b[43mretry\u001b[49m\u001b[43m,\u001b[49m\n\u001b[0;32m    838\u001b[0m \u001b[43m    \u001b[49m\u001b[43mtimeout\u001b[49m\u001b[38;5;241;43m=\u001b[39;49m\u001b[43mtimeout\u001b[49m\u001b[43m,\u001b[49m\n\u001b[0;32m    839\u001b[0m \u001b[43m    \u001b[49m\u001b[43mmetadata\u001b[49m\u001b[38;5;241;43m=\u001b[39;49m\u001b[43mmetadata\u001b[49m\u001b[43m,\u001b[49m\n\u001b[0;32m    840\u001b[0m \u001b[43m\u001b[49m\u001b[43m)\u001b[49m\n\u001b[0;32m    842\u001b[0m \u001b[38;5;66;03m# Done; return the response.\u001b[39;00m\n\u001b[0;32m    843\u001b[0m \u001b[38;5;28;01mreturn\u001b[39;00m response\n",
      "File \u001b[1;32mc:\\Users\\basil\\.pyenv\\pyenv-win\\versions\\3.9.12\\lib\\site-packages\\google\\api_core\\gapic_v1\\method.py:131\u001b[0m, in \u001b[0;36m_GapicCallable.__call__\u001b[1;34m(self, timeout, retry, compression, *args, **kwargs)\u001b[0m\n\u001b[0;32m    128\u001b[0m \u001b[38;5;28;01mif\u001b[39;00m \u001b[38;5;28mself\u001b[39m\u001b[38;5;241m.\u001b[39m_compression \u001b[38;5;129;01mis\u001b[39;00m \u001b[38;5;129;01mnot\u001b[39;00m \u001b[38;5;28;01mNone\u001b[39;00m:\n\u001b[0;32m    129\u001b[0m     kwargs[\u001b[38;5;124m\"\u001b[39m\u001b[38;5;124mcompression\u001b[39m\u001b[38;5;124m\"\u001b[39m] \u001b[38;5;241m=\u001b[39m compression\n\u001b[1;32m--> 131\u001b[0m \u001b[38;5;28;01mreturn\u001b[39;00m wrapped_func(\u001b[38;5;241m*\u001b[39margs, \u001b[38;5;241m*\u001b[39m\u001b[38;5;241m*\u001b[39mkwargs)\n",
      "File \u001b[1;32mc:\\Users\\basil\\.pyenv\\pyenv-win\\versions\\3.9.12\\lib\\site-packages\\google\\api_core\\retry\\retry_unary.py:294\u001b[0m, in \u001b[0;36mRetry.__call__.<locals>.retry_wrapped_func\u001b[1;34m(*args, **kwargs)\u001b[0m\n\u001b[0;32m    290\u001b[0m target \u001b[38;5;241m=\u001b[39m functools\u001b[38;5;241m.\u001b[39mpartial(func, \u001b[38;5;241m*\u001b[39margs, \u001b[38;5;241m*\u001b[39m\u001b[38;5;241m*\u001b[39mkwargs)\n\u001b[0;32m    291\u001b[0m sleep_generator \u001b[38;5;241m=\u001b[39m exponential_sleep_generator(\n\u001b[0;32m    292\u001b[0m     \u001b[38;5;28mself\u001b[39m\u001b[38;5;241m.\u001b[39m_initial, \u001b[38;5;28mself\u001b[39m\u001b[38;5;241m.\u001b[39m_maximum, multiplier\u001b[38;5;241m=\u001b[39m\u001b[38;5;28mself\u001b[39m\u001b[38;5;241m.\u001b[39m_multiplier\n\u001b[0;32m    293\u001b[0m )\n\u001b[1;32m--> 294\u001b[0m \u001b[38;5;28;01mreturn\u001b[39;00m \u001b[43mretry_target\u001b[49m\u001b[43m(\u001b[49m\n\u001b[0;32m    295\u001b[0m \u001b[43m    \u001b[49m\u001b[43mtarget\u001b[49m\u001b[43m,\u001b[49m\n\u001b[0;32m    296\u001b[0m \u001b[43m    \u001b[49m\u001b[38;5;28;43mself\u001b[39;49m\u001b[38;5;241;43m.\u001b[39;49m\u001b[43m_predicate\u001b[49m\u001b[43m,\u001b[49m\n\u001b[0;32m    297\u001b[0m \u001b[43m    \u001b[49m\u001b[43msleep_generator\u001b[49m\u001b[43m,\u001b[49m\n\u001b[0;32m    298\u001b[0m \u001b[43m    \u001b[49m\u001b[43mtimeout\u001b[49m\u001b[38;5;241;43m=\u001b[39;49m\u001b[38;5;28;43mself\u001b[39;49m\u001b[38;5;241;43m.\u001b[39;49m\u001b[43m_timeout\u001b[49m\u001b[43m,\u001b[49m\n\u001b[0;32m    299\u001b[0m \u001b[43m    \u001b[49m\u001b[43mon_error\u001b[49m\u001b[38;5;241;43m=\u001b[39;49m\u001b[43mon_error\u001b[49m\u001b[43m,\u001b[49m\n\u001b[0;32m    300\u001b[0m \u001b[43m\u001b[49m\u001b[43m)\u001b[49m\n",
      "File \u001b[1;32mc:\\Users\\basil\\.pyenv\\pyenv-win\\versions\\3.9.12\\lib\\site-packages\\google\\api_core\\retry\\retry_unary.py:147\u001b[0m, in \u001b[0;36mretry_target\u001b[1;34m(target, predicate, sleep_generator, timeout, on_error, exception_factory, **kwargs)\u001b[0m\n\u001b[0;32m    145\u001b[0m \u001b[38;5;28;01mwhile\u001b[39;00m \u001b[38;5;28;01mTrue\u001b[39;00m:\n\u001b[0;32m    146\u001b[0m     \u001b[38;5;28;01mtry\u001b[39;00m:\n\u001b[1;32m--> 147\u001b[0m         result \u001b[38;5;241m=\u001b[39m \u001b[43mtarget\u001b[49m\u001b[43m(\u001b[49m\u001b[43m)\u001b[49m\n\u001b[0;32m    148\u001b[0m         \u001b[38;5;28;01mif\u001b[39;00m inspect\u001b[38;5;241m.\u001b[39misawaitable(result):\n\u001b[0;32m    149\u001b[0m             warnings\u001b[38;5;241m.\u001b[39mwarn(_ASYNC_RETRY_WARNING)\n",
      "File \u001b[1;32mc:\\Users\\basil\\.pyenv\\pyenv-win\\versions\\3.9.12\\lib\\site-packages\\google\\api_core\\timeout.py:130\u001b[0m, in \u001b[0;36mTimeToDeadlineTimeout.__call__.<locals>.func_with_timeout\u001b[1;34m(*args, **kwargs)\u001b[0m\n\u001b[0;32m    126\u001b[0m         remaining_timeout \u001b[38;5;241m=\u001b[39m \u001b[38;5;28mself\u001b[39m\u001b[38;5;241m.\u001b[39m_timeout\n\u001b[0;32m    128\u001b[0m     kwargs[\u001b[38;5;124m\"\u001b[39m\u001b[38;5;124mtimeout\u001b[39m\u001b[38;5;124m\"\u001b[39m] \u001b[38;5;241m=\u001b[39m remaining_timeout\n\u001b[1;32m--> 130\u001b[0m \u001b[38;5;28;01mreturn\u001b[39;00m func(\u001b[38;5;241m*\u001b[39margs, \u001b[38;5;241m*\u001b[39m\u001b[38;5;241m*\u001b[39mkwargs)\n",
      "File \u001b[1;32mc:\\Users\\basil\\.pyenv\\pyenv-win\\versions\\3.9.12\\lib\\site-packages\\google\\api_core\\grpc_helpers.py:76\u001b[0m, in \u001b[0;36m_wrap_unary_errors.<locals>.error_remapped_callable\u001b[1;34m(*args, **kwargs)\u001b[0m\n\u001b[0;32m     73\u001b[0m \u001b[38;5;129m@functools\u001b[39m\u001b[38;5;241m.\u001b[39mwraps(callable_)\n\u001b[0;32m     74\u001b[0m \u001b[38;5;28;01mdef\u001b[39;00m \u001b[38;5;21merror_remapped_callable\u001b[39m(\u001b[38;5;241m*\u001b[39margs, \u001b[38;5;241m*\u001b[39m\u001b[38;5;241m*\u001b[39mkwargs):\n\u001b[0;32m     75\u001b[0m     \u001b[38;5;28;01mtry\u001b[39;00m:\n\u001b[1;32m---> 76\u001b[0m         \u001b[38;5;28;01mreturn\u001b[39;00m callable_(\u001b[38;5;241m*\u001b[39margs, \u001b[38;5;241m*\u001b[39m\u001b[38;5;241m*\u001b[39mkwargs)\n\u001b[0;32m     77\u001b[0m     \u001b[38;5;28;01mexcept\u001b[39;00m grpc\u001b[38;5;241m.\u001b[39mRpcError \u001b[38;5;28;01mas\u001b[39;00m exc:\n\u001b[0;32m     78\u001b[0m         \u001b[38;5;28;01mraise\u001b[39;00m exceptions\u001b[38;5;241m.\u001b[39mfrom_grpc_error(exc) \u001b[38;5;28;01mfrom\u001b[39;00m \u001b[38;5;21;01mexc\u001b[39;00m\n",
      "File \u001b[1;32mc:\\Users\\basil\\.pyenv\\pyenv-win\\versions\\3.9.12\\lib\\site-packages\\grpc\\_interceptor.py:277\u001b[0m, in \u001b[0;36m_UnaryUnaryMultiCallable.__call__\u001b[1;34m(self, request, timeout, metadata, credentials, wait_for_ready, compression)\u001b[0m\n\u001b[0;32m    268\u001b[0m \u001b[38;5;28;01mdef\u001b[39;00m \u001b[38;5;21m__call__\u001b[39m(\n\u001b[0;32m    269\u001b[0m     \u001b[38;5;28mself\u001b[39m,\n\u001b[0;32m    270\u001b[0m     request: Any,\n\u001b[1;32m   (...)\u001b[0m\n\u001b[0;32m    275\u001b[0m     compression: Optional[grpc\u001b[38;5;241m.\u001b[39mCompression] \u001b[38;5;241m=\u001b[39m \u001b[38;5;28;01mNone\u001b[39;00m,\n\u001b[0;32m    276\u001b[0m ) \u001b[38;5;241m-\u001b[39m\u001b[38;5;241m>\u001b[39m Any:\n\u001b[1;32m--> 277\u001b[0m     response, ignored_call \u001b[38;5;241m=\u001b[39m \u001b[38;5;28;43mself\u001b[39;49m\u001b[38;5;241;43m.\u001b[39;49m\u001b[43m_with_call\u001b[49m\u001b[43m(\u001b[49m\n\u001b[0;32m    278\u001b[0m \u001b[43m        \u001b[49m\u001b[43mrequest\u001b[49m\u001b[43m,\u001b[49m\n\u001b[0;32m    279\u001b[0m \u001b[43m        \u001b[49m\u001b[43mtimeout\u001b[49m\u001b[38;5;241;43m=\u001b[39;49m\u001b[43mtimeout\u001b[49m\u001b[43m,\u001b[49m\n\u001b[0;32m    280\u001b[0m \u001b[43m        \u001b[49m\u001b[43mmetadata\u001b[49m\u001b[38;5;241;43m=\u001b[39;49m\u001b[43mmetadata\u001b[49m\u001b[43m,\u001b[49m\n\u001b[0;32m    281\u001b[0m \u001b[43m        \u001b[49m\u001b[43mcredentials\u001b[49m\u001b[38;5;241;43m=\u001b[39;49m\u001b[43mcredentials\u001b[49m\u001b[43m,\u001b[49m\n\u001b[0;32m    282\u001b[0m \u001b[43m        \u001b[49m\u001b[43mwait_for_ready\u001b[49m\u001b[38;5;241;43m=\u001b[39;49m\u001b[43mwait_for_ready\u001b[49m\u001b[43m,\u001b[49m\n\u001b[0;32m    283\u001b[0m \u001b[43m        \u001b[49m\u001b[43mcompression\u001b[49m\u001b[38;5;241;43m=\u001b[39;49m\u001b[43mcompression\u001b[49m\u001b[43m,\u001b[49m\n\u001b[0;32m    284\u001b[0m \u001b[43m    \u001b[49m\u001b[43m)\u001b[49m\n\u001b[0;32m    285\u001b[0m     \u001b[38;5;28;01mreturn\u001b[39;00m response\n",
      "File \u001b[1;32mc:\\Users\\basil\\.pyenv\\pyenv-win\\versions\\3.9.12\\lib\\site-packages\\grpc\\_interceptor.py:329\u001b[0m, in \u001b[0;36m_UnaryUnaryMultiCallable._with_call\u001b[1;34m(self, request, timeout, metadata, credentials, wait_for_ready, compression)\u001b[0m\n\u001b[0;32m    326\u001b[0m     \u001b[38;5;28;01mexcept\u001b[39;00m \u001b[38;5;167;01mException\u001b[39;00m \u001b[38;5;28;01mas\u001b[39;00m exception:  \u001b[38;5;66;03m# pylint:disable=broad-except\u001b[39;00m\n\u001b[0;32m    327\u001b[0m         \u001b[38;5;28;01mreturn\u001b[39;00m _FailureOutcome(exception, sys\u001b[38;5;241m.\u001b[39mexc_info()[\u001b[38;5;241m2\u001b[39m])\n\u001b[1;32m--> 329\u001b[0m call \u001b[38;5;241m=\u001b[39m \u001b[38;5;28;43mself\u001b[39;49m\u001b[38;5;241;43m.\u001b[39;49m\u001b[43m_interceptor\u001b[49m\u001b[38;5;241;43m.\u001b[39;49m\u001b[43mintercept_unary_unary\u001b[49m\u001b[43m(\u001b[49m\n\u001b[0;32m    330\u001b[0m \u001b[43m    \u001b[49m\u001b[43mcontinuation\u001b[49m\u001b[43m,\u001b[49m\u001b[43m \u001b[49m\u001b[43mclient_call_details\u001b[49m\u001b[43m,\u001b[49m\u001b[43m \u001b[49m\u001b[43mrequest\u001b[49m\n\u001b[0;32m    331\u001b[0m \u001b[43m\u001b[49m\u001b[43m)\u001b[49m\n\u001b[0;32m    332\u001b[0m \u001b[38;5;28;01mreturn\u001b[39;00m call\u001b[38;5;241m.\u001b[39mresult(), call\n",
      "File \u001b[1;32mc:\\Users\\basil\\.pyenv\\pyenv-win\\versions\\3.9.12\\lib\\site-packages\\google\\ai\\generativelanguage_v1beta\\services\\generative_service\\transports\\grpc.py:79\u001b[0m, in \u001b[0;36m_LoggingClientInterceptor.intercept_unary_unary\u001b[1;34m(self, continuation, client_call_details, request)\u001b[0m\n\u001b[0;32m     64\u001b[0m     grpc_request \u001b[38;5;241m=\u001b[39m {\n\u001b[0;32m     65\u001b[0m         \u001b[38;5;124m\"\u001b[39m\u001b[38;5;124mpayload\u001b[39m\u001b[38;5;124m\"\u001b[39m: request_payload,\n\u001b[0;32m     66\u001b[0m         \u001b[38;5;124m\"\u001b[39m\u001b[38;5;124mrequestMethod\u001b[39m\u001b[38;5;124m\"\u001b[39m: \u001b[38;5;124m\"\u001b[39m\u001b[38;5;124mgrpc\u001b[39m\u001b[38;5;124m\"\u001b[39m,\n\u001b[0;32m     67\u001b[0m         \u001b[38;5;124m\"\u001b[39m\u001b[38;5;124mmetadata\u001b[39m\u001b[38;5;124m\"\u001b[39m: \u001b[38;5;28mdict\u001b[39m(request_metadata),\n\u001b[0;32m     68\u001b[0m     }\n\u001b[0;32m     69\u001b[0m     _LOGGER\u001b[38;5;241m.\u001b[39mdebug(\n\u001b[0;32m     70\u001b[0m         \u001b[38;5;124mf\u001b[39m\u001b[38;5;124m\"\u001b[39m\u001b[38;5;124mSending request for \u001b[39m\u001b[38;5;132;01m{\u001b[39;00mclient_call_details\u001b[38;5;241m.\u001b[39mmethod\u001b[38;5;132;01m}\u001b[39;00m\u001b[38;5;124m\"\u001b[39m,\n\u001b[0;32m     71\u001b[0m         extra\u001b[38;5;241m=\u001b[39m{\n\u001b[1;32m   (...)\u001b[0m\n\u001b[0;32m     76\u001b[0m         },\n\u001b[0;32m     77\u001b[0m     )\n\u001b[1;32m---> 79\u001b[0m response \u001b[38;5;241m=\u001b[39m \u001b[43mcontinuation\u001b[49m\u001b[43m(\u001b[49m\u001b[43mclient_call_details\u001b[49m\u001b[43m,\u001b[49m\u001b[43m \u001b[49m\u001b[43mrequest\u001b[49m\u001b[43m)\u001b[49m\n\u001b[0;32m     80\u001b[0m \u001b[38;5;28;01mif\u001b[39;00m logging_enabled:  \u001b[38;5;66;03m# pragma: NO COVER\u001b[39;00m\n\u001b[0;32m     81\u001b[0m     response_metadata \u001b[38;5;241m=\u001b[39m response\u001b[38;5;241m.\u001b[39mtrailing_metadata()\n",
      "File \u001b[1;32mc:\\Users\\basil\\.pyenv\\pyenv-win\\versions\\3.9.12\\lib\\site-packages\\grpc\\_interceptor.py:315\u001b[0m, in \u001b[0;36m_UnaryUnaryMultiCallable._with_call.<locals>.continuation\u001b[1;34m(new_details, request)\u001b[0m\n\u001b[0;32m    306\u001b[0m (\n\u001b[0;32m    307\u001b[0m     new_method,\n\u001b[0;32m    308\u001b[0m     new_timeout,\n\u001b[1;32m   (...)\u001b[0m\n\u001b[0;32m    312\u001b[0m     new_compression,\n\u001b[0;32m    313\u001b[0m ) \u001b[38;5;241m=\u001b[39m _unwrap_client_call_details(new_details, client_call_details)\n\u001b[0;32m    314\u001b[0m \u001b[38;5;28;01mtry\u001b[39;00m:\n\u001b[1;32m--> 315\u001b[0m     response, call \u001b[38;5;241m=\u001b[39m \u001b[38;5;28;43mself\u001b[39;49m\u001b[38;5;241;43m.\u001b[39;49m\u001b[43m_thunk\u001b[49m\u001b[43m(\u001b[49m\u001b[43mnew_method\u001b[49m\u001b[43m)\u001b[49m\u001b[38;5;241;43m.\u001b[39;49m\u001b[43mwith_call\u001b[49m\u001b[43m(\u001b[49m\n\u001b[0;32m    316\u001b[0m \u001b[43m        \u001b[49m\u001b[43mrequest\u001b[49m\u001b[43m,\u001b[49m\n\u001b[0;32m    317\u001b[0m \u001b[43m        \u001b[49m\u001b[43mtimeout\u001b[49m\u001b[38;5;241;43m=\u001b[39;49m\u001b[43mnew_timeout\u001b[49m\u001b[43m,\u001b[49m\n\u001b[0;32m    318\u001b[0m \u001b[43m        \u001b[49m\u001b[43mmetadata\u001b[49m\u001b[38;5;241;43m=\u001b[39;49m\u001b[43mnew_metadata\u001b[49m\u001b[43m,\u001b[49m\n\u001b[0;32m    319\u001b[0m \u001b[43m        \u001b[49m\u001b[43mcredentials\u001b[49m\u001b[38;5;241;43m=\u001b[39;49m\u001b[43mnew_credentials\u001b[49m\u001b[43m,\u001b[49m\n\u001b[0;32m    320\u001b[0m \u001b[43m        \u001b[49m\u001b[43mwait_for_ready\u001b[49m\u001b[38;5;241;43m=\u001b[39;49m\u001b[43mnew_wait_for_ready\u001b[49m\u001b[43m,\u001b[49m\n\u001b[0;32m    321\u001b[0m \u001b[43m        \u001b[49m\u001b[43mcompression\u001b[49m\u001b[38;5;241;43m=\u001b[39;49m\u001b[43mnew_compression\u001b[49m\u001b[43m,\u001b[49m\n\u001b[0;32m    322\u001b[0m \u001b[43m    \u001b[49m\u001b[43m)\u001b[49m\n\u001b[0;32m    323\u001b[0m     \u001b[38;5;28;01mreturn\u001b[39;00m _UnaryOutcome(response, call)\n\u001b[0;32m    324\u001b[0m \u001b[38;5;28;01mexcept\u001b[39;00m grpc\u001b[38;5;241m.\u001b[39mRpcError \u001b[38;5;28;01mas\u001b[39;00m rpc_error:\n",
      "File \u001b[1;32mc:\\Users\\basil\\.pyenv\\pyenv-win\\versions\\3.9.12\\lib\\site-packages\\grpc\\_channel.py:1195\u001b[0m, in \u001b[0;36m_UnaryUnaryMultiCallable.with_call\u001b[1;34m(self, request, timeout, metadata, credentials, wait_for_ready, compression)\u001b[0m\n\u001b[0;32m   1183\u001b[0m \u001b[38;5;28;01mdef\u001b[39;00m \u001b[38;5;21mwith_call\u001b[39m(\n\u001b[0;32m   1184\u001b[0m     \u001b[38;5;28mself\u001b[39m,\n\u001b[0;32m   1185\u001b[0m     request: Any,\n\u001b[1;32m   (...)\u001b[0m\n\u001b[0;32m   1190\u001b[0m     compression: Optional[grpc\u001b[38;5;241m.\u001b[39mCompression] \u001b[38;5;241m=\u001b[39m \u001b[38;5;28;01mNone\u001b[39;00m,\n\u001b[0;32m   1191\u001b[0m ) \u001b[38;5;241m-\u001b[39m\u001b[38;5;241m>\u001b[39m Tuple[Any, grpc\u001b[38;5;241m.\u001b[39mCall]:\n\u001b[0;32m   1192\u001b[0m     (\n\u001b[0;32m   1193\u001b[0m         state,\n\u001b[0;32m   1194\u001b[0m         call,\n\u001b[1;32m-> 1195\u001b[0m     ) \u001b[38;5;241m=\u001b[39m \u001b[38;5;28;43mself\u001b[39;49m\u001b[38;5;241;43m.\u001b[39;49m\u001b[43m_blocking\u001b[49m\u001b[43m(\u001b[49m\n\u001b[0;32m   1196\u001b[0m \u001b[43m        \u001b[49m\u001b[43mrequest\u001b[49m\u001b[43m,\u001b[49m\u001b[43m \u001b[49m\u001b[43mtimeout\u001b[49m\u001b[43m,\u001b[49m\u001b[43m \u001b[49m\u001b[43mmetadata\u001b[49m\u001b[43m,\u001b[49m\u001b[43m \u001b[49m\u001b[43mcredentials\u001b[49m\u001b[43m,\u001b[49m\u001b[43m \u001b[49m\u001b[43mwait_for_ready\u001b[49m\u001b[43m,\u001b[49m\u001b[43m \u001b[49m\u001b[43mcompression\u001b[49m\n\u001b[0;32m   1197\u001b[0m \u001b[43m    \u001b[49m\u001b[43m)\u001b[49m\n\u001b[0;32m   1198\u001b[0m     \u001b[38;5;28;01mreturn\u001b[39;00m _end_unary_response_blocking(state, call, \u001b[38;5;28;01mTrue\u001b[39;00m, \u001b[38;5;28;01mNone\u001b[39;00m)\n",
      "File \u001b[1;32mc:\\Users\\basil\\.pyenv\\pyenv-win\\versions\\3.9.12\\lib\\site-packages\\grpc\\_channel.py:1162\u001b[0m, in \u001b[0;36m_UnaryUnaryMultiCallable._blocking\u001b[1;34m(self, request, timeout, metadata, credentials, wait_for_ready, compression)\u001b[0m\n\u001b[0;32m   1145\u001b[0m state\u001b[38;5;241m.\u001b[39mtarget \u001b[38;5;241m=\u001b[39m _common\u001b[38;5;241m.\u001b[39mdecode(\u001b[38;5;28mself\u001b[39m\u001b[38;5;241m.\u001b[39m_target)\n\u001b[0;32m   1146\u001b[0m call \u001b[38;5;241m=\u001b[39m \u001b[38;5;28mself\u001b[39m\u001b[38;5;241m.\u001b[39m_channel\u001b[38;5;241m.\u001b[39msegregated_call(\n\u001b[0;32m   1147\u001b[0m     cygrpc\u001b[38;5;241m.\u001b[39mPropagationConstants\u001b[38;5;241m.\u001b[39mGRPC_PROPAGATE_DEFAULTS,\n\u001b[0;32m   1148\u001b[0m     \u001b[38;5;28mself\u001b[39m\u001b[38;5;241m.\u001b[39m_method,\n\u001b[1;32m   (...)\u001b[0m\n\u001b[0;32m   1160\u001b[0m     \u001b[38;5;28mself\u001b[39m\u001b[38;5;241m.\u001b[39m_registered_call_handle,\n\u001b[0;32m   1161\u001b[0m )\n\u001b[1;32m-> 1162\u001b[0m event \u001b[38;5;241m=\u001b[39m \u001b[43mcall\u001b[49m\u001b[38;5;241;43m.\u001b[39;49m\u001b[43mnext_event\u001b[49m\u001b[43m(\u001b[49m\u001b[43m)\u001b[49m\n\u001b[0;32m   1163\u001b[0m _handle_event(event, state, \u001b[38;5;28mself\u001b[39m\u001b[38;5;241m.\u001b[39m_response_deserializer)\n\u001b[0;32m   1164\u001b[0m \u001b[38;5;28;01mreturn\u001b[39;00m state, call\n",
      "File \u001b[1;32msrc/python/grpcio/grpc/_cython/_cygrpc/channel.pyx.pxi:388\u001b[0m, in \u001b[0;36mgrpc._cython.cygrpc.SegregatedCall.next_event\u001b[1;34m()\u001b[0m\n",
      "File \u001b[1;32msrc/python/grpcio/grpc/_cython/_cygrpc/channel.pyx.pxi:211\u001b[0m, in \u001b[0;36mgrpc._cython.cygrpc._next_call_event\u001b[1;34m()\u001b[0m\n",
      "File \u001b[1;32msrc/python/grpcio/grpc/_cython/_cygrpc/channel.pyx.pxi:205\u001b[0m, in \u001b[0;36mgrpc._cython.cygrpc._next_call_event\u001b[1;34m()\u001b[0m\n",
      "File \u001b[1;32msrc/python/grpcio/grpc/_cython/_cygrpc/completion_queue.pyx.pxi:97\u001b[0m, in \u001b[0;36mgrpc._cython.cygrpc._latent_event\u001b[1;34m()\u001b[0m\n",
      "File \u001b[1;32msrc/python/grpcio/grpc/_cython/_cygrpc/completion_queue.pyx.pxi:80\u001b[0m, in \u001b[0;36mgrpc._cython.cygrpc._internal_latent_event\u001b[1;34m()\u001b[0m\n",
      "File \u001b[1;32msrc/python/grpcio/grpc/_cython/_cygrpc/completion_queue.pyx.pxi:61\u001b[0m, in \u001b[0;36mgrpc._cython.cygrpc._next\u001b[1;34m()\u001b[0m\n",
      "\u001b[1;31mKeyboardInterrupt\u001b[0m: "
     ]
    }
   ],
   "source": [
    "# Cell 7: Process PDFs (PDF Analyzer Module Handles All Logging)\n",
    "print(\"=== Starting PDF Analysis ===\")\n",
    "print(f\"📊 Total work: {len(pdf_files)} PDFs × {len(questions)} questions = {len(pdf_files) * len(questions)} tasks\")\n",
    "analyzer.set_quiet_mode(False)\n",
    "# Initialize counters for final summary\n",
    "processed_count = 0\n",
    "error_count = 0\n",
    "results_summary = []\n",
    "\n",
    "  # Load questions and additional instructions\n",
    "questions, additional_instructions = analyzer.load_questions(questions_file)\n",
    "     \n",
    "        # Process each PDF\n",
    "for i, pdf_file in enumerate(pdf_files, 1):\n",
    "    \n",
    "    pdf_path = os.path.join(pdf_dir, pdf_file)\n",
    "    pdf_title = analyzer.get_pdf_title(pdf_file)\n",
    "\n",
    "    try:\n",
    "        print(f\"\\n🔍 Processing ({i}/{len(pdf_files)}): {pdf_file}\")\n",
    "        # Process PDF and get Q&A results\n",
    "        qa_results = analyzer.process_pdf(pdf_path, questions, additional_instructions)\n",
    "        if qa_results:\n",
    "            # Update markdown file\n",
    "            processed_count += 1\n",
    "            analyzer.update_markdown_file(output_file, pdf_title, qa_results)\n",
    "        else:\n",
    "            error_count += 1\n",
    "            print(f\"⚠️ No results generated for {pdf_file}\")\n",
    "            \n",
    "    except Exception as e:\n",
    "        print(f\"❌ Error processing {pdf_file}: {e}\")\n",
    "        error_count += 1\n",
    "        continue\n",
    "\n",
    "# Final summary\n",
    "final_rate = f\"{processed_count/(processed_count+error_count)*100:.1f}%\" if (processed_count+error_count) > 0 else \"No files processed\"\n",
    "print(f\"\\n🎉 Analysis complete!\")\n",
    "print(f\"📊 Final Results: {processed_count} processed, {error_count} errors\")\n",
    "print(f\"📈 Success Rate: {final_rate}\")"
   ]
  },
  {
   "cell_type": "markdown",
   "id": "40305fe7",
   "metadata": {},
   "source": [
    "## BONUS: with progress bar!"
   ]
  },
  {
   "cell_type": "code",
   "execution_count": 8,
   "id": "2006a0df",
   "metadata": {},
   "outputs": [
    {
     "name": "stdout",
     "output_type": "stream",
     "text": [
      "=== Starting PDF Analysis with Progress Bar ===\n",
      "📊 Total work: 2 PDFs × 12 questions = 24 tasks\n"
     ]
    },
    {
     "data": {
      "application/vnd.jupyter.widget-view+json": {
       "model_id": "543a18367aa04cdc83a5420821618a3c",
       "version_major": 2,
       "version_minor": 0
      },
      "text/plain": [
       "Overall Progress:   0%|          | 0/24 [00:00<?, ?task/s]"
      ]
     },
     "metadata": {},
     "output_type": "display_data"
    },
    {
     "name": "stdout",
     "output_type": "stream",
     "text": [
      "\n",
      "🎉 Analysis complete!\n",
      "📊 Final Results: 2 PDFs processed, 0 PDFs failed\n",
      "📈 Success Rate: 100.0%\n",
      "📝 Results saved to: output.md\n"
     ]
    }
   ],
   "source": [
    "# Cell 8: Process PDFs with Progress Bar\n",
    "from tqdm.notebook import tqdm\n",
    "\n",
    "print(\"=== Starting PDF Analysis with Progress Bar ===\")\n",
    "\n",
    "\n",
    "# Calculate total tasks\n",
    "total_tasks = len(pdf_files) * len(questions)\n",
    "print(f\"📊 Total work: {len(pdf_files)} PDFs × {len(questions)} questions = {total_tasks} tasks\")\n",
    "\n",
    "# Enable quiet mode - logging will only go to file, not console\n",
    "analyzer.set_quiet_mode(True)\n",
    "\n",
    "# Initialize counters for final summary\n",
    "processed_count = 0\n",
    "error_count = 0\n",
    "results_summary = []\n",
    "failed_files = []  # Track which files failed\n",
    "\n",
    "# Create main progress bar\n",
    "with tqdm(total=total_tasks, desc=\"Overall Progress\", unit=\"task\") as pbar:\n",
    "    \n",
    "    # Process each PDF\n",
    "    for i, pdf_file in enumerate(pdf_files, 1):\n",
    "        \n",
    "        pdf_path = os.path.join(pdf_dir, pdf_file)\n",
    "        pdf_title = analyzer.get_pdf_title(pdf_file)\n",
    "\n",
    "        # Upload PDF file once using File API\n",
    "        uploaded_file = analyzer.upload_pdf_file(pdf_path)\n",
    "        n = len(questions)\n",
    "        qa_results = {}\n",
    "        try:\n",
    "            pbar.set_description(f\"Processing PDF {i}/{len(pdf_files)}: {pdf_file[:30]}...\")\n",
    "\n",
    "            for question in questions:\n",
    "            \n",
    "                # Process PDF and get Q&A results (console logging disabled)\n",
    "                answer, question_duration = analyzer.ask_question(\n",
    "                    i, n, uploaded_file, pdf_title, question,  additional_instructions)\n",
    "                if answer:\n",
    "                    qa_results[question] = answer\n",
    "                    analyzer.update_markdown_file(output_file, pdf_title, qa_results)\n",
    "                \n",
    "                # Update progress by the number of questions processed for this PDF\n",
    "                pbar.update(1)\n",
    "            \n",
    "            if qa_results:\n",
    "                analyzer.update_markdown_file(output_file, pdf_title, qa_results)\n",
    "                # Update markdown file\n",
    "                processed_count += 1\n",
    "            else:\n",
    "                error_count += 1\n",
    "                failed_files.append(f\"{pdf_file} (no results)\")\n",
    "        except Exception as e:\n",
    "            error_count += 1\n",
    "            failed_files.append(f\"{pdf_file} (error: {str(e)[:50]}...)\")\n",
    "            # Still update progress even if there was an error\n",
    "            pbar.update(len(questions))\n",
    "            continue\n",
    "\n",
    "# Restore normal logging (console + file)\n",
    "analyzer.set_quiet_mode(False)\n",
    "\n",
    "# Final summary (after progress bar is complete)\n",
    "final_rate = f\"{processed_count/(processed_count+error_count)*100:.1f}%\" if (processed_count+error_count) > 0 else \"No files processed\"\n",
    "print(f\"\\n🎉 Analysis complete!\")\n",
    "print(f\"📊 Final Results: {processed_count} PDFs processed, {error_count} PDFs failed\")\n",
    "print(f\"📈 Success Rate: {final_rate}\")\n",
    "print(f\"📝 Results saved to: {output_file}\")\n",
    "\n",
    "# Show failed files if any\n",
    "if failed_files:\n",
    "    print(f\"\\n⚠️ Failed files:\")\n",
    "    for failed_file in failed_files:\n",
    "        print(f\"  - {failed_file}\")"
   ]
  }
 ],
 "metadata": {
  "kernelspec": {
   "display_name": "3.9.12",
   "language": "python",
   "name": "python3"
  },
  "language_info": {
   "codemirror_mode": {
    "name": "ipython",
    "version": 3
   },
   "file_extension": ".py",
   "mimetype": "text/x-python",
   "name": "python",
   "nbconvert_exporter": "python",
   "pygments_lexer": "ipython3",
   "version": "3.9.12"
  }
 },
 "nbformat": 4,
 "nbformat_minor": 5
}
